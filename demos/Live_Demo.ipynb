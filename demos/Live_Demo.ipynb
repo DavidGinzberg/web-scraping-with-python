{
 "cells": [
  {
   "cell_type": "markdown",
   "metadata": {},
   "source": [
    "# Demo Notebook\n",
    "\n",
    "Here's where we'll go through a small example of scraping a simple site. Everyone can follow along in this same notebook or use it for their own practice afterward. You can create new notebooks using the menus up top, but remember they won't actually be saved unless you click `File->Download as...->Notebook` and save a copy to your machine (or email it to yourself)"
   ]
  }
 ],
 "metadata": {
  "kernelspec": {
   "display_name": "Python 3",
   "language": "python",
   "name": "python3"
  },
  "language_info": {
   "codemirror_mode": {
    "name": "ipython",
    "version": 3
   },
   "file_extension": ".py",
   "mimetype": "text/x-python",
   "name": "python",
   "nbconvert_exporter": "python",
   "pygments_lexer": "ipython3",
   "version": "3.6.3"
  }
 },
 "nbformat": 4,
 "nbformat_minor": 2
}
